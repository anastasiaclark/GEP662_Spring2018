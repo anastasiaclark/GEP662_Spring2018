{
 "cells": [
  {
   "cell_type": "markdown",
   "metadata": {
    "collapsed": true
   },
   "source": [
    "# Welcome to Programming for GIS class!\n",
    "GEP 662,\n",
    "Lehman College,\n",
    "Spring 2018"
   ]
  },
  {
   "cell_type": "markdown",
   "metadata": {},
   "source": [
    "## Topics Today\n",
    "* Introductions\n",
    "* Course Overview\n",
    "* Start learning Python"
   ]
  },
  {
   "cell_type": "markdown",
   "metadata": {},
   "source": [
    "## About Me\n",
    "  * Not a programmer\n",
    "  * Enjoy working with data\n",
    "  * Think Python is the only language you will ever need"
   ]
  },
  {
   "cell_type": "markdown",
   "metadata": {},
   "source": [
    "## About programming in GIS\n",
    "following are summarized talking points from \n",
    "the keynote Presentation by Joe Cheng @ FOSS4G Boston 2017\n",
    "* Why do we write code?"
   ]
  },
  {
   "cell_type": "markdown",
   "metadata": {},
   "source": [
    "* Extend the existing tools"
   ]
  },
  {
   "cell_type": "markdown",
   "metadata": {},
   "source": [
    "* Automate geoprocessing tasks"
   ]
  },
  {
   "cell_type": "markdown",
   "metadata": {},
   "source": [
    "* Create new tools/apps that don't exist"
   ]
  },
  {
   "cell_type": "markdown",
   "metadata": {},
   "source": [
    "# You can use programming for much more!\n",
    " <img src='img/gis_wc.png'>\n",
    " \n",
    "This wordcloud is created with Python only using the [wikipedia package]() and the [wordcloud package](https://github.com/amueller/word_cloud). All words in this wordcloud are from [Wikipedia artcile on GIS](https://en.wikipedia.org/wiki/Geographic_information_system)."
   ]
  },
  {
   "cell_type": "markdown",
   "metadata": {},
   "source": [
    "# Coding as a first resort\n",
    "\n",
    " <img src='img/data-science.png'>"
   ]
  },
  {
   "cell_type": "markdown",
   "metadata": {},
   "source": [
    "* Using programming for all your data operations makes your analysis reproducible"
   ]
  },
  {
   "cell_type": "markdown",
   "metadata": {},
   "source": [
    "* Easy to replicate and scale up or down"
   ]
  },
  {
   "cell_type": "markdown",
   "metadata": {},
   "source": [
    "* Stay in a single environemnt"
   ]
  },
  {
   "cell_type": "code",
   "execution_count": 25,
   "metadata": {},
   "outputs": [
    {
     "data": {
      "text/html": [
       "<iframe src=\"https://player.vimeo.com/video/231984830#t=39m15s?title=0&byline=0&portrait=0\" width=\"700\" height=\"394\" frameborder=\"0\" webkitallowfullscreen mozallowfullscreen allowfullscreen></iframe><p><a href=\"https://vimeo.com/231984830#t=39m15s\">Joe Cheng @ FOSS4G Boston 2017</a> <a href=\"https://vimeo.com/foss4g\">Foss4g</a> on <a href=\"https://vimeo.com\">Vimeo</a>.</p>"
      ],
      "text/plain": [
       "<IPython.core.display.HTML object>"
      ]
     },
     "execution_count": 25,
     "metadata": {},
     "output_type": "execute_result"
    }
   ],
   "source": [
    "from IPython.display import HTML\n",
    "HTML('<iframe src=\"https://player.vimeo.com/video/231984830#t=39m15s?title=0&byline=0&portrait=0\" width=\"700\" height=\"394\" frameborder=\"0\" webkitallowfullscreen mozallowfullscreen allowfullscreen></iframe><p><a href=\"https://vimeo.com/231984830#t=39m15s\">Joe Cheng @ FOSS4G Boston 2017</a> <a href=\"https://vimeo.com/foss4g\">Foss4g</a> on <a href=\"https://vimeo.com\">Vimeo</a>.</p>')"
   ]
  },
  {
   "cell_type": "markdown",
   "metadata": {},
   "source": [
    "| Package Name | Description/ Used For     \n",
    "| :----------: |:-------------: \n",
    "|[Numpy](http://www.numpy.org/)|NumPy is the fundamental package for scientific computing with Python. Lots of other packages are built on Numpy. In GIS, we often use Numpy to work with raster data\n",
    "|[Pandas](https://pandas.pydata.org/)|Pandas is powerful data analysis library. [Geopandas](http://geopandas.org/) as built on top of pandas. We will use Pandas extensively for data munging and preparation.\n",
    "|[GeoPandas](http://geopandas.org/)|GeoPandas extends the datatypes used by pandas to allow spatial operations on geometric types. Geometric operations are performed by [shapely](http://toblerity.org/shapely/). Geopandas further depends on [fiona](http://toblerity.org/fiona/) for file access and descartes and [matplotlib](https://matplotlib.org/) for plotting. It's easy to integrate GeoPandas with other spatial tools and packages and it will be out go-to tool for all vector operations.\n",
    "|[Bokeh](https://bokeh.pydata.org/en/latest/)|Bokeh is used to make interactive vizualizations. We will use Bokeh to bring data attributes in the map to life!\n",
    "|[Folium](https://folium.readthedocs.io/en/latest/)| Python library to make interactive web maps. You don't have to know javascript to make web maps; Folium is built on the Leaflet javascript library and provides a pythonic API to make web maps.\n",
    "|[rasterstats](https://pypi.python.org/pypi/rasterstats)| Python module for summarizing geospatial raster datasets based on vector geometries. We will use this package to do zonal statistics.\n",
    "|[rasterio](https://github.com/mapbox/rasterio)|Rasterio reads and writes geospatial raster data. Rasterio is built on top of GDAL, but it is a better alterntaive for working with rasters as it provides a more pythonic API.\n"
   ]
  },
  {
   "cell_type": "code",
   "execution_count": null,
   "metadata": {},
   "outputs": [],
   "source": [
    "## TODO: add points for reproduction\n",
    "## make table with python packages for GIS: format: column for name of the package---columns for application\n",
    "## turn notebooks to slides\n",
    "## embed video \n"
   ]
  }
 ],
 "metadata": {
  "kernelspec": {
   "display_name": "Python 3",
   "language": "python",
   "name": "python3"
  },
  "language_info": {
   "codemirror_mode": {
    "name": "ipython",
    "version": 3
   },
   "file_extension": ".py",
   "mimetype": "text/x-python",
   "name": "python",
   "nbconvert_exporter": "python",
   "pygments_lexer": "ipython3",
   "version": "3.6.3"
  }
 },
 "nbformat": 4,
 "nbformat_minor": 2
}
