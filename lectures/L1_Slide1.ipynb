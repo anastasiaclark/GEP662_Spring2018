{
 "cells": [
  {
   "cell_type": "markdown",
   "metadata": {},
   "source": [
    "https://vimeo.com/231984830#t=39m15s"
   ]
  },
  {
   "cell_type": "markdown",
   "metadata": {
    "collapsed": true
   },
   "source": [
    "# Welcome to Programming for GIS class!\n",
    "GEP 662,\n",
    "Lehman College,\n",
    "Spring 2018"
   ]
  },
  {
   "cell_type": "markdown",
   "metadata": {},
   "source": [
    "## Topics\n",
    "* Introductions\n",
    "* Course Overview\n",
    "* Start learning Python"
   ]
  },
  {
   "cell_type": "markdown",
   "metadata": {},
   "source": [
    "## About Me\n",
    "  * not a programmer\n",
    "  * enjoy working with data\n",
    "  * think Python is the only language you will ever need"
   ]
  },
  {
   "cell_type": "markdown",
   "metadata": {},
   "source": [
    "## About programming in GIS\n",
    "following are summarized talking points from \n",
    "the keynote Presentation by Joe Cheng @ FOSS4G Boston 2017\n",
    "* Why do we write code?"
   ]
  },
  {
   "cell_type": "markdown",
   "metadata": {},
   "source": [
    "* Extend the existing tools"
   ]
  },
  {
   "cell_type": "markdown",
   "metadata": {},
   "source": [
    "* Automate geoprocessing tasks"
   ]
  },
  {
   "cell_type": "markdown",
   "metadata": {},
   "source": [
    "* Create new tools/apps that don't exist"
   ]
  },
  {
   "cell_type": "markdown",
   "metadata": {},
   "source": [
    "# You can use programming for much more!\n",
    " <img src='img/gis_wc.png'>\n",
    " \n",
    "This wordcloud is created with Python only using the [wikipedia package]() and the [wordcloud package](https://github.com/amueller/word_cloud). All words in this wordcloud are from [Wikipedia artcile on GIS](https://en.wikipedia.org/wiki/Geographic_information_system)."
   ]
  },
  {
   "cell_type": "markdown",
   "metadata": {},
   "source": [
    "# Data is central for any GIS analysis, do data in code!\n",
    "\n",
    " <img src='img/data-science.png'>"
   ]
  },
  {
   "cell_type": "markdown",
   "metadata": {},
   "source": [
    "* Using programming for all your data operations makes your analysis reproducible"
   ]
  },
  {
   "cell_type": "markdown",
   "metadata": {},
   "source": [
    "* Easy to replicate and scale up or down"
   ]
  },
  {
   "cell_type": "markdown",
   "metadata": {},
   "source": [
    "* Stay in a single environemnt"
   ]
  },
  {
   "cell_type": "code",
   "execution_count": 15,
   "metadata": {},
   "outputs": [
    {
     "name": "stdout",
     "output_type": "stream",
     "text": [
      "Help on class HTML in module IPython.core.display:\n",
      "\n",
      "class HTML(TextDisplayObject)\n",
      " |  Validate that display data is text\n",
      " |  \n",
      " |  Method resolution order:\n",
      " |      HTML\n",
      " |      TextDisplayObject\n",
      " |      DisplayObject\n",
      " |      builtins.object\n",
      " |  \n",
      " |  Methods defined here:\n",
      " |  \n",
      " |  __html__(self)\n",
      " |      This method exists to inform other HTML-using modules (e.g. Markupsafe,\n",
      " |      htmltag, etc) that this object is HTML and does not need things like\n",
      " |      special characters (<>&) escaped.\n",
      " |  \n",
      " |  ----------------------------------------------------------------------\n",
      " |  Methods inherited from DisplayObject:\n",
      " |  \n",
      " |  __init__(self, data=None, url=None, filename=None, metadata=None)\n",
      " |      Create a display object given raw data.\n",
      " |      \n",
      " |      When this object is returned by an expression or passed to the\n",
      " |      display function, it will result in the data being displayed\n",
      " |      in the frontend. The MIME type of the data should match the\n",
      " |      subclasses used, so the Png subclass should be used for 'image/png'\n",
      " |      data. If the data is a URL, the data will first be downloaded\n",
      " |      and then displayed. If\n",
      " |      \n",
      " |      Parameters\n",
      " |      ----------\n",
      " |      data : unicode, str or bytes\n",
      " |          The raw data or a URL or file to load the data from\n",
      " |      url : unicode\n",
      " |          A URL to download the data from.\n",
      " |      filename : unicode\n",
      " |          Path to a local file to load the data from.\n",
      " |      metadata : dict\n",
      " |          Dict of metadata associated to be the object when displayed\n",
      " |  \n",
      " |  __repr__(self)\n",
      " |      Return repr(self).\n",
      " |  \n",
      " |  reload(self)\n",
      " |      Reload the raw data from file or URL.\n",
      " |  \n",
      " |  ----------------------------------------------------------------------\n",
      " |  Data descriptors inherited from DisplayObject:\n",
      " |  \n",
      " |  __dict__\n",
      " |      dictionary for instance variables (if defined)\n",
      " |  \n",
      " |  __weakref__\n",
      " |      list of weak references to the object (if defined)\n",
      " |  \n",
      " |  ----------------------------------------------------------------------\n",
      " |  Data and other attributes inherited from DisplayObject:\n",
      " |  \n",
      " |  metadata = None\n",
      "\n"
     ]
    }
   ],
   "source": [
    "help(HTML)"
   ]
  },
  {
   "cell_type": "code",
   "execution_count": 17,
   "metadata": {},
   "outputs": [
    {
     "ename": "SyntaxError",
     "evalue": "invalid syntax (<ipython-input-17-3605c2e51421>, line 2)",
     "output_type": "error",
     "traceback": [
      "\u001b[0;36m  File \u001b[0;32m\"<ipython-input-17-3605c2e51421>\"\u001b[0;36m, line \u001b[0;32m2\u001b[0m\n\u001b[0;31m    HTML(url='https://vimeo.com/231984830#t=39m15s',width=\"700\" height=\"394\" frameborder=\"0\" )\u001b[0m\n\u001b[0m                                                                     ^\u001b[0m\n\u001b[0;31mSyntaxError\u001b[0m\u001b[0;31m:\u001b[0m invalid syntax\n"
     ]
    }
   ],
   "source": [
    "from IPython.display import HTML\n",
    "HTML(url='https://vimeo.com/231984830#t=39m15s',width=\"700\" height=\"394\" frameborder=\"0\" )"
   ]
  },
  {
   "cell_type": "markdown",
   "metadata": {},
   "source": [
    "| Package Name | Description/ Used For     \n",
    "| :----------: |:-------------: \n",
    "|[Numpy](http://www.numpy.org/)|NumPy is the fundamental package for scientific computing with Python. Lots of other packages are built on Numpy. In GIS, we often use Numpy to work with raster data\n",
    "|[Pandas](https://pandas.pydata.org/)|Pandas is powerful data analysis library. [Geopandas](http://geopandas.org/) as built on top of pandas. We will use Pandas extensively for data munging and preparation.\n",
    "|[GeoPandas](http://geopandas.org/)|GeoPandas extends the datatypes used by pandas to allow spatial operations on geometric types. Geometric operations are performed by [shapely](http://toblerity.org/shapely/). Geopandas further depends on [fiona](http://toblerity.org/fiona/) for file access and descartes and [matplotlib](https://matplotlib.org/) for plotting. It's easy to integrate GeoPandas with other spatial tools and packages and it will be out go-to tool for all vector operations.\n",
    "|[Bokeh](https://bokeh.pydata.org/en/latest/)|Bokeh is used to make interactive vizualizations. We will use Bokeh to bring data attributes in the map to life!\n",
    "|[Folium](https://folium.readthedocs.io/en/latest/)| Python library to make interactive web maps. You don't have to know javascript to make web maps; Folium is built on the Leaflet javascript library and provides a pythonic API to make web maps.\n",
    "|[rasterstats](https://pypi.python.org/pypi/rasterstats)| Python module for summarizing geospatial raster datasets based on vector geometries. We will use this package to do zonal statistics.\n",
    "|[rasterio](https://github.com/mapbox/rasterio)|Rasterio reads and writes geospatial raster data. Rasterio is built on top of GDAL, but it is a better alterntaive for working with rasters as it provides a more pythonic API.\n"
   ]
  },
  {
   "cell_type": "code",
   "execution_count": null,
   "metadata": {},
   "outputs": [],
   "source": [
    "## TODO: add points for reproduction\n",
    "## make table with python packages for GIS: format: column for name of the package---columns for application\n",
    "## turn notebooks to slides\n",
    "## embed video \n"
   ]
  }
 ],
 "metadata": {
  "kernelspec": {
   "display_name": "Python 3",
   "language": "python",
   "name": "python3"
  },
  "language_info": {
   "codemirror_mode": {
    "name": "ipython",
    "version": 3
   },
   "file_extension": ".py",
   "mimetype": "text/x-python",
   "name": "python",
   "nbconvert_exporter": "python",
   "pygments_lexer": "ipython3",
   "version": "3.6.3"
  }
 },
 "nbformat": 4,
 "nbformat_minor": 2
}
