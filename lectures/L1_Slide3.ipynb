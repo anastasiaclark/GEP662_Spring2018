{
 "cells": [
  {
   "cell_type": "markdown",
   "metadata": {
    "slideshow": {
     "slide_type": "slide"
    }
   },
   "source": [
    "## 1.2 Introduction to Jupyter Notebook"
   ]
  },
  {
   "cell_type": "markdown",
   "metadata": {
    "slideshow": {
     "slide_type": "slide"
    }
   },
   "source": [
    "### Jupyter Notebook Commands\n",
    "Cells in Jupyter Notebook have two modes: *editting mode* and *command mode*.  \n",
    "The cell border color on the right indicates which mode your are currently in.  \n",
    "Green border is editing mode and  <img src='img/editt_mode.png'> \n",
    "blue border <img src='img/cmd_mode.png'>is command mode. To enter comand mode, pres <kbd>ESC</kbd>. To enter the edit mode, press <kbd>ENTER</kbd>.  \n",
    "Different shortcuts are used in different modes. Following are the most common ones you'll use"
   ]
  },
  {
   "cell_type": "markdown",
   "metadata": {
    "slideshow": {
     "slide_type": "slide"
    }
   },
   "source": [
    "## In Command Mode:\n",
    "* <kbd>SHIFT</kbd> + <kbd>ENTER</kbd>: run the current cell\n",
    "* <kbd>h</kbd>: show keyboard shortcuts\n",
    "* <kbd>m</kbd>: convert cell to a text cell\n",
    "* <kbd>y</kbd>: convert cell to a code cell\n",
    "* <kbd>d</kbd>: delete cell\n",
    "* <kbd>x</kbd>: cut cell\n",
    "* <kbd>v</kbd>: paste cell\n",
    "* <kbd>F</kbd>: find and replace within the cell\n",
    "* <kbd>M</kbd>: merge cells\n",
    "* <kbd>z</kbd>: undo action of the cell\n",
    "* <kbd>a</kbd>: insert a new cell above the current cell\n",
    "* <kbd>b</kbd>: insert a new cell below the current cell\n",
    "* <kbd>i</kbd><kbd>i</kbd>: KeyboardInterrupt\n",
    "\n",
    "For the full list of command, press <kbd>p</kbd> in command mode"
   ]
  },
  {
   "cell_type": "markdown",
   "metadata": {
    "slideshow": {
     "slide_type": "slide"
    }
   },
   "source": [
    "## In Editting Mode:\n",
    "* <kbd>CMD</kbd>+<kbd>]</kbd>: indent \n",
    "* <kbd>CMD</kbd>+<kbd>[</kbd>: unindent\n",
    "* <kbd>SHIFT</kbd> + <kbd>ENTER</kbd>:run the cell and select below\n",
    "* <kbd>CMD</kbd>+<kbd>/</kbd>: comment line \n",
    "* <kbd>CMD</kbd>+<kbd>u</kbd>: undo selection\n",
    "* <kbd>CMD</kbd>+<kbd>z</kbd>: undo action (within the cell)\n",
    "* <kbd>CNTRL</kbd>+<kbd>SHIFT</kbd>+<kbd>-</kbd>: split cell at cursor"
   ]
  },
  {
   "cell_type": "markdown",
   "metadata": {
    "collapsed": true,
    "slideshow": {
     "slide_type": "slide"
    }
   },
   "source": [
    "### Let's practice!\n",
    "* Turn a cell into Markdown and insert a cell beow\n",
    "* Declare a variable x=5 and undo the variable creation\n",
    "* Print something in the infinite loop and interrupt the kernel\n"
   ]
  },
  {
   "cell_type": "code",
   "execution_count": null,
   "metadata": {
    "collapsed": true,
    "slideshow": {
     "slide_type": "slide"
    }
   },
   "outputs": [],
   "source": [
    "x=5\n",
    "while x:\n",
    "    print ('It will print forever....pres `Esc` and `i` two times ')\n"
   ]
  }
 ],
 "metadata": {
  "celltoolbar": "Slideshow",
  "kernelspec": {
   "display_name": "Python 2",
   "language": "python",
   "name": "python2"
  },
  "language_info": {
   "codemirror_mode": {
    "name": "ipython",
    "version": 2
   },
   "file_extension": ".py",
   "mimetype": "text/x-python",
   "name": "python",
   "nbconvert_exporter": "python",
   "pygments_lexer": "ipython2",
   "version": "2.7.13"
  }
 },
 "nbformat": 4,
 "nbformat_minor": 2
}
