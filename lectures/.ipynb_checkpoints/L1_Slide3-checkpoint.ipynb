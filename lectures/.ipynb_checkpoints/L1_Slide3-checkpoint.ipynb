{
 "cells": [
  {
   "cell_type": "markdown",
   "metadata": {
    "slideshow": {
     "slide_type": "slide"
    }
   },
   "source": [
    "## 1.3 Introduction to Jupyter Notebook"
   ]
  },
  {
   "cell_type": "markdown",
   "metadata": {
    "slideshow": {
     "slide_type": "subslide"
    }
   },
   "source": [
    "* **Jupyter notebook** is a browser-based graphical interface to the IPython shell. \n",
    "\n",
    "* Jupyter stands for `Ju`lia, `Pyt`hon and `R`\n",
    "\n",
    "* The documents created using Jupyter are called **notebooks**. They have extension **.ipynb**, which stand for `IPy`thon `notebook`.\n",
    "\n",
    "* Jupyter notebooks can contain both computer code (e.g. Python, R, Julia), formatted text, static and dynamic visualizations, mathematical equations, JavaScript widgets, and much more."
   ]
  },
  {
   "cell_type": "markdown",
   "metadata": {
    "slideshow": {
     "slide_type": "subslide"
    }
   },
   "source": [
    "The notebook consists of a number of cells that depending on the cell type contain a piece of code or some narration. "
   ]
  },
  {
   "cell_type": "code",
   "execution_count": 6,
   "metadata": {
    "slideshow": {
     "slide_type": "fragment"
    }
   },
   "outputs": [
    {
     "data": {
      "text/plain": [
       "30"
      ]
     },
     "execution_count": 6,
     "metadata": {},
     "output_type": "execute_result"
    }
   ],
   "source": [
    "# this a code cell\n",
    "\n",
    "a = 10\n",
    "b = 20\n",
    "a + b"
   ]
  },
  {
   "cell_type": "code",
   "execution_count": 9,
   "metadata": {
    "collapsed": true,
    "slideshow": {
     "slide_type": "fragment"
    }
   },
   "outputs": [],
   "source": [
    "# this is a code cell '#' symbol here indicates comment\n",
    "# you can use * to create list items\n",
    "# * item 1\n",
    "# * item 2\n",
    "# * item 3"
   ]
  },
  {
   "cell_type": "markdown",
   "metadata": {
    "slideshow": {
     "slide_type": "fragment"
    }
   },
   "source": [
    "This is a mardown cell. It has a list of 3 items.\n",
    "\n",
    " * item 1\n",
    " * item 2\n",
    " * item 3"
   ]
  },
  {
   "cell_type": "markdown",
   "metadata": {
    "slideshow": {
     "slide_type": "fragment"
    }
   },
   "source": [
    "You can make headers and subheaders using `#` symbol. "
   ]
  },
  {
   "cell_type": "code",
   "execution_count": 3,
   "metadata": {
    "slideshow": {
     "slide_type": "fragment"
    }
   },
   "outputs": [],
   "source": [
    "# This header uses 1 `#` symbol\n",
    "## This subheader uses 2 `#` symbols\n",
    "### subsubheader with 3 `#` symbols\n",
    "#### you get the idea"
   ]
  },
  {
   "cell_type": "markdown",
   "metadata": {
    "slideshow": {
     "slide_type": "fragment"
    }
   },
   "source": [
    "# This header uses 1 `#` symbol\n",
    "## This subheader uses 2 `#` symbols\n",
    "### subsubheader with 3 `#` symbols\n",
    "#### you get the idea"
   ]
  },
  {
   "cell_type": "markdown",
   "metadata": {
    "slideshow": {
     "slide_type": "subslide"
    }
   },
   "source": [
    "Notebooks support LaTeX, HTML, and other markdowns. To write a formula using LaTex markdown, put your expression between the `$$` symbols.\n",
    "\n",
    "For example, writing `$y = x^2$` will produce: $y = x^2$\n",
    "\n",
    "or writing `$L' = {L}{\\sqrt{1-\\frac{v^2}{c^2}}}$` will produce: $L' = {L}{\\sqrt{1-\\frac{v^2}{c^2}}}$\n"
   ]
  },
  {
   "cell_type": "markdown",
   "metadata": {
    "slideshow": {
     "slide_type": "subslide"
    }
   },
   "source": [
    "Inserting a link is very simple. \n",
    "\n",
    "Simplty typing the url `https://www.google.com/` will create a link like https://www.google.com/\n",
    "\n",
    "Or if you want to put some other text in the link, surround the text with `[]`, like so:\n",
    "\n",
    "`[A complete overview of jupyter notebook](https://jupyter.brynmawr.edu/services/public/dblank/Jupyter%20Notebook%20Users%20Manual.ipynb)`\n",
    "\n",
    "will produce:\n",
    "[A complete overview of jupyter notebook](https://jupyter.brynmawr.edu/services/public/dblank/Jupyter%20Notebook%20Users%20Manual.ipynb)"
   ]
  },
  {
   "cell_type": "markdown",
   "metadata": {
    "slideshow": {
     "slide_type": "slide"
    }
   },
   "source": [
    "### Jupyter Notebook Commands\n",
    "Cells in Jupyter Notebook have two modes: *editting mode* and *command mode*.  \n",
    "The cell border color on the right indicates which mode your are currently in.  \n",
    "Green border is editing mode and  <img src='img/editt_mode.png'> \n",
    "blue border <img src='img/cmd_mode.png'>is command mode. To enter comand mode, pres <kbd>ESC</kbd>. To enter the edit mode, press <kbd>ENTER</kbd>.  \n",
    "Different shortcuts are used in different modes. Following are the most common ones you'll use"
   ]
  },
  {
   "cell_type": "markdown",
   "metadata": {
    "slideshow": {
     "slide_type": "slide"
    }
   },
   "source": [
    "## In Command Mode:\n",
    "* <kbd>SHIFT</kbd> + <kbd>ENTER</kbd>: run the current cell\n",
    "* <kbd>h</kbd>: show keyboard shortcuts\n",
    "* <kbd>m</kbd>: convert cell to a text cell\n",
    "* <kbd>y</kbd>: convert cell to a code cell\n",
    "* <kbd>d</kbd>: delete cell\n",
    "* <kbd>x</kbd>: cut cell\n",
    "* <kbd>v</kbd>: paste cell\n",
    "* <kbd>F</kbd>: find and replace within the cell\n",
    "* <kbd>M</kbd>: merge cells\n",
    "* <kbd>z</kbd>: undo action of the cell\n",
    "* <kbd>a</kbd>: insert a new cell above the current cell\n",
    "* <kbd>b</kbd>: insert a new cell below the current cell\n",
    "* <kbd>i</kbd><kbd>i</kbd>: KeyboardInterrupt\n",
    "\n",
    "For the full list of command, press <kbd>p</kbd> in command mode"
   ]
  },
  {
   "cell_type": "markdown",
   "metadata": {
    "slideshow": {
     "slide_type": "slide"
    }
   },
   "source": [
    "## In Editting Mode:\n",
    "* <kbd>CMD</kbd>+<kbd>]</kbd>: indent \n",
    "* <kbd>CMD</kbd>+<kbd>[</kbd>: unindent\n",
    "* <kbd>SHIFT</kbd> + <kbd>ENTER</kbd>:run the cell and select below\n",
    "* <kbd>CMD</kbd>+<kbd>/</kbd>: comment line \n",
    "* <kbd>CMD</kbd>+<kbd>u</kbd>: undo selection\n",
    "* <kbd>CMD</kbd>+<kbd>z</kbd>: undo action (within the cell)\n",
    "* <kbd>CNTRL</kbd>+<kbd>SHIFT</kbd>+<kbd>-</kbd>: split cell at cursor"
   ]
  },
  {
   "cell_type": "markdown",
   "metadata": {
    "collapsed": true,
    "slideshow": {
     "slide_type": "slide"
    }
   },
   "source": [
    "### Let's practice!\n",
    "\n",
    "Launch Jupyter Notebook by typing `jupyter notebook` in your terminal\n",
    "\n",
    " Try some of these:  \n",
    " \n",
    "* Turn a cell into Markdown and insert a cell beow\n",
    "* Declare a variable x=5 and undo the variable creation\n",
    "* Print something in the infinite loop and interrupt the kernel\n"
   ]
  }
 ],
 "metadata": {
  "celltoolbar": "Slideshow",
  "kernelspec": {
   "display_name": "Python 3",
   "language": "python",
   "name": "python3"
  },
  "language_info": {
   "codemirror_mode": {
    "name": "ipython",
    "version": 3
   },
   "file_extension": ".py",
   "mimetype": "text/x-python",
   "name": "python",
   "nbconvert_exporter": "python",
   "pygments_lexer": "ipython3",
   "version": "3.6.3"
  }
 },
 "nbformat": 4,
 "nbformat_minor": 2
}
