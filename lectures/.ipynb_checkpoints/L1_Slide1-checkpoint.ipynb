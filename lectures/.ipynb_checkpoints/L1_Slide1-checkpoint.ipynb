{
 "cells": [
  {
   "cell_type": "markdown",
   "metadata": {
    "collapsed": true,
    "slideshow": {
     "slide_type": "slide"
    }
   },
   "source": [
    "# 1.1 Welcome to Programming for GIS class!\n",
    "GEP 662,\n",
    "Lehman College,\n",
    "Spring 2018"
   ]
  },
  {
   "cell_type": "markdown",
   "metadata": {
    "slideshow": {
     "slide_type": "slide"
    }
   },
   "source": [
    "## Topics Today\n",
    "* Introductions\n",
    "* Course Overview\n",
    "* Start learning Python"
   ]
  },
  {
   "cell_type": "markdown",
   "metadata": {
    "slideshow": {
     "slide_type": "slide"
    }
   },
   "source": [
    "## About Me\n",
    "  * Not a programmer\n",
    "  * Work at NYPD, Office of Crime Control Strategies\n",
    "  * Enjoy working with data\n",
    "  * Think Python is the only language you will ever need"
   ]
  },
  {
   "cell_type": "markdown",
   "metadata": {
    "slideshow": {
     "slide_type": "subslide"
    }
   },
   "source": [
    "<img src='img/growth_major_languages.png'>"
   ]
  },
  {
   "cell_type": "markdown",
   "metadata": {
    "slideshow": {
     "slide_type": "fragment"
    }
   },
   "source": [
    "Python is accessible"
   ]
  },
  {
   "cell_type": "markdown",
   "metadata": {
    "slideshow": {
     "slide_type": "fragment"
    }
   },
   "source": [
    "Python has a huge  and very supportive community "
   ]
  },
  {
   "cell_type": "markdown",
   "metadata": {
    "slideshow": {
     "slide_type": "fragment"
    }
   },
   "source": [
    "Python has over 120,000 libraries"
   ]
  },
  {
   "cell_type": "markdown",
   "metadata": {
    "slideshow": {
     "slide_type": "slide"
    }
   },
   "source": [
    "## About programming in GIS\n",
    "following are summarized talking points from \n",
    "the keynote Presentation by Joe Cheng @ FOSS4G Boston 2017\n",
    "* Why do we write code?"
   ]
  },
  {
   "cell_type": "markdown",
   "metadata": {
    "slideshow": {
     "slide_type": "fragment"
    }
   },
   "source": [
    "* Extend the existing tools"
   ]
  },
  {
   "cell_type": "markdown",
   "metadata": {
    "slideshow": {
     "slide_type": "fragment"
    }
   },
   "source": [
    "* Automate geoprocessing tasks"
   ]
  },
  {
   "cell_type": "markdown",
   "metadata": {
    "slideshow": {
     "slide_type": "fragment"
    }
   },
   "source": [
    "* Create new tools/apps that don't exist"
   ]
  },
  {
   "cell_type": "markdown",
   "metadata": {
    "slideshow": {
     "slide_type": "slide"
    }
   },
   "source": [
    "# You can use programming for much more!\n",
    " <img src='img/gis_wc.png'>\n",
    " \n",
    "This wordcloud is created with Python only using the [wikipedia package]() and the [wordcloud package](https://github.com/amueller/word_cloud). All words in this wordcloud are from [Wikipedia artcile on GIS](https://en.wikipedia.org/wiki/Geographic_information_system)."
   ]
  },
  {
   "cell_type": "markdown",
   "metadata": {
    "slideshow": {
     "slide_type": "slide"
    }
   },
   "source": [
    "# Coding as a first resort\n",
    "\n",
    " <img src='img/data-science.png'>"
   ]
  },
  {
   "cell_type": "markdown",
   "metadata": {
    "slideshow": {
     "slide_type": "fragment"
    }
   },
   "source": [
    "* Using programming for all your data operations makes your analysis reproducible"
   ]
  },
  {
   "cell_type": "markdown",
   "metadata": {
    "slideshow": {
     "slide_type": "fragment"
    }
   },
   "source": [
    "* Easy to replicate and scale up or down"
   ]
  },
  {
   "cell_type": "markdown",
   "metadata": {
    "slideshow": {
     "slide_type": "fragment"
    }
   },
   "source": [
    "* Stay in a single environemnt"
   ]
  },
  {
   "cell_type": "code",
   "execution_count": 21,
   "metadata": {
    "slideshow": {
     "slide_type": "slide"
    }
   },
   "outputs": [
    {
     "data": {
      "text/html": [
       "\n",
       "        <iframe\n",
       "            width=\"700\"\n",
       "            height=\"400\"\n",
       "            src=\"https://player.vimeo.com/video/231984830\"\n",
       "            frameborder=\"0\"\n",
       "            allowfullscreen\n",
       "        ></iframe>\n",
       "        "
      ],
      "text/plain": [
       "<IPython.lib.display.VimeoVideo at 0x108081cd0>"
      ]
     },
     "execution_count": 21,
     "metadata": {},
     "output_type": "execute_result"
    }
   ],
   "source": [
    "from IPython import display\n",
    "from IPython.display import VimeoVideo\n",
    "VimeoVideo('231984830',width=700, height=400)\n",
    "# 39m15s"
   ]
  },
  {
   "cell_type": "markdown",
   "metadata": {
    "slideshow": {
     "slide_type": "slide"
    }
   },
   "source": [
    "| Package Name | Description/ Used For     \n",
    "| :----------: |:-------------: \n",
    "|[Numpy](http://www.numpy.org/)|NumPy is the fundamental package for scientific computing with Python. Lots of other packages are built on Numpy. In GIS, we often use Numpy to work with raster data\n",
    "|[Pandas](https://pandas.pydata.org/)|Pandas is powerful data analysis library. [Geopandas](http://geopandas.org/) as built on top of pandas. We will use Pandas extensively for data munging and preparation.\n",
    "|[GeoPandas](http://geopandas.org/)|GeoPandas extends the datatypes used by pandas to allow spatial operations on geometric types. Geometric operations are performed by [shapely](http://toblerity.org/shapely/). Geopandas further depends on [fiona](http://toblerity.org/fiona/) for file access and descartes and [matplotlib](https://matplotlib.org/) for plotting. It's easy to integrate GeoPandas with other spatial tools and packages and it will be out go-to tool for all vector operations.\n",
    "|[Bokeh](https://bokeh.pydata.org/en/latest/)|Bokeh is used to make interactive vizualizations. We will use Bokeh to bring data attributes in the map to life!\n",
    "|[Folium](https://folium.readthedocs.io/en/latest/)| Python library to make interactive web maps. You don't have to know javascript to make web maps; Folium is built on the Leaflet javascript library and provides a pythonic API to make web maps.\n",
    "|[osmnx](https://osmnx.readthedocs.io/en/stable/)|Retrieve, construct, analyze, and visualize street networks from OpenStreetMap\n",
    "|[rasterstats](https://pypi.python.org/pypi/rasterstats)| Python module for summarizing geospatial raster datasets based on vector geometries. We will use this package to do zonal statistics.\n",
    "|[rasterio](https://github.com/mapbox/rasterio)|Rasterio reads and writes geospatial raster data. Rasterio is built on top of GDAL, but it is a better alterntaive for working with rasters as it provides a more pythonic API.\n"
   ]
  }
 ],
 "metadata": {
  "celltoolbar": "Slideshow",
  "kernelspec": {
   "display_name": "Python 2",
   "language": "python",
   "name": "python2"
  },
  "language_info": {
   "codemirror_mode": {
    "name": "ipython",
    "version": 2
   },
   "file_extension": ".py",
   "mimetype": "text/x-python",
   "name": "python",
   "nbconvert_exporter": "python",
   "pygments_lexer": "ipython2",
   "version": "2.7.13"
  }
 },
 "nbformat": 4,
 "nbformat_minor": 2
}
