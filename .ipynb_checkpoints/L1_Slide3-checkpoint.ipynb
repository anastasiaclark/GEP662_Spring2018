{
 "cells": [
  {
   "cell_type": "markdown",
   "metadata": {
    "slideshow": {
     "slide_type": "slide"
    }
   },
   "source": [
    "## 1.2 Introduction to Jupyter Notebook"
   ]
  },
  {
   "cell_type": "markdown",
   "metadata": {
    "slideshow": {
     "slide_type": "slide"
    }
   },
   "source": [
    "### Jupyter Notebook Commands\n",
    "Cells in Jupyter Notebook have two modes: *editting mode* and *command mode*.  \n",
    "The cell border color on the right indicates which mode your are currently in. Green border <img src='editt_mode.png'> is editing mode and blue border <img src='cmd_mode.png'>is command mode. \n",
    "\n",
    "\n",
    "Different shortcuts can be used in different modes. Here are the most common ones you'll use:"
   ]
  },
  {
   "cell_type": "markdown",
   "metadata": {
    "slideshow": {
     "slide_type": "slide"
    }
   },
   "source": [
    "## In Command Mode:\n",
    "* <kbd>SHIFT</kbd> + <kbd>ENTER</kbd>:run the current cell\n",
    "* `h`: show keyboard shortcuts\n",
    "* `m`: convert cell to a text cell\n",
    "* `y`: convert cell to a code cell\n",
    "* `d`: delete cell\n",
    "* `x`: cut cell\n",
    "* `v`: paste cell\n",
    "* `F`: find and replace within the cell\n",
    "* `M`: merge cells\n",
    "* `z`: undo action of the cell\n",
    "* `a`: insert a new cell above the current cell\n",
    "* `b`: insert a new cell below the current cell\n",
    "* `ii`: KeyboardInterrupt\n",
    "\n",
    "For the full list of command, press `p` in command mode"
   ]
  },
  {
   "cell_type": "markdown",
   "metadata": {
    "slideshow": {
     "slide_type": "slide"
    }
   },
   "source": [
    "## In Editting Mode:\n",
    "* <kbd>CMD</kbd>+`]`: indent \n",
    "* <kbd>CMD</kbd>+`[`: unindent\n",
    "* <kbd>SHIFT</kbd> + <kbd>ENTER</kbd>:run the cell and select below\n",
    "* <kbd>CMD</kbd>+`/`: comment line (at the cursor)\n",
    "* <kbd>CMD</kbd>+`u`: undo selection\n",
    "* <kbd>CMD</kbd>+`z`: undo action (within the cell)\n",
    "* <kbd>CNTRL</kbd>+<kbd>SHIFT</kbd>+`-`: split cell at cursor"
   ]
  },
  {
   "cell_type": "code",
   "execution_count": null,
   "metadata": {
    "slideshow": {
     "slide_type": "slide"
    }
   },
   "outputs": [],
   "source": [
    "# practice:\n",
    "Turn this cell into Markdown and insert a cell beow"
   ]
  },
  {
   "cell_type": "code",
   "execution_count": null,
   "metadata": {
    "slideshow": {
     "slide_type": "slide"
    }
   },
   "outputs": [],
   "source": [
    "x=5\n",
    "while x:\n",
    "    print ('It will print forever....pres `Esc` and `i` two times ')\n"
   ]
  },
  {
   "cell_type": "code",
   "execution_count": null,
   "metadata": {
    "slideshow": {
     "slide_type": "skip"
    }
   },
   "outputs": [],
   "source": []
  },
  {
   "cell_type": "code",
   "execution_count": null,
   "metadata": {
    "slideshow": {
     "slide_type": "skip"
    }
   },
   "outputs": [],
   "source": []
  }
 ],
 "metadata": {
  "celltoolbar": "Slideshow",
  "kernelspec": {
   "display_name": "Python 3",
   "language": "python",
   "name": "python3"
  },
  "language_info": {
   "codemirror_mode": {
    "name": "ipython",
    "version": 3
   },
   "file_extension": ".py",
   "mimetype": "text/x-python",
   "name": "python",
   "nbconvert_exporter": "python",
   "pygments_lexer": "ipython3",
   "version": "3.6.3"
  }
 },
 "nbformat": 4,
 "nbformat_minor": 2
}
